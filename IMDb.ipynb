{
 "cells": [
  {
   "cell_type": "code",
   "execution_count": 16,
   "metadata": {},
   "outputs": [],
   "source": [
    "!pip3 install -q requests\n"
   ]
  },
  {
   "cell_type": "code",
   "execution_count": 18,
   "metadata": {},
   "outputs": [
    {
     "data": {
      "text/plain": [
       "'{\"url\":\"https://www.anapioficeandfire.com/api/characters/583\",\"name\":\"Jon Snow\",\"gender\":\"Male\",\"culture\":\"Northmen\",\"born\":\"In 283 AC\",\"died\":\"\",\"titles\":[\"Lord Commander of the Night\\'s Watch\"],\"aliases\":[\"Lord Snow\",\"Ned Stark\\'s Bastard\",\"The Snow of Winterfell\",\"The Crow-Come-Over\",\"The 998th Lord Commander of the Night\\'s Watch\",\"The Bastard of Winterfell\",\"The Black Bastard of the Wall\",\"Lord Crow\"],\"father\":\"\",\"mother\":\"\",\"spouse\":\"\",\"allegiances\":[\"https://www.anapioficeandfire.com/api/houses/362\"],\"books\":[\"https://www.anapioficeandfire.com/api/books/5\"],\"povBooks\":[\"https://www.anapioficeandfire.com/api/books/1\",\"https://www.anapioficeandfire.com/api/books/2\",\"https://www.anapioficeandfire.com/api/books/3\",\"https://www.anapioficeandfire.com/api/books/8\"],\"tvSeries\":[\"Season 1\",\"Season 2\",\"Season 3\",\"Season 4\",\"Season 5\",\"Season 6\"],\"playedBy\":[\"Kit Harington\"]}'"
      ]
     },
     "execution_count": 18,
     "metadata": {},
     "output_type": "execute_result"
    }
   ],
   "source": [
    "##Thrones\n",
    "url = 'https://anapioficeandfire.com/api/characters/583' \n",
    "import requests\n",
    "import json\n",
    "import pandas as pd\n",
    "response = requests.get(url, headers=header)\n",
    "response.text"
   ]
  },
  {
   "cell_type": "code",
   "execution_count": 15,
   "metadata": {},
   "outputs": [
    {
     "ename": "NameError",
     "evalue": "name 'name' is not defined",
     "output_type": "error",
     "traceback": [
      "\u001b[1;31m---------------------------------------------------------------------------\u001b[0m",
      "\u001b[1;31mNameError\u001b[0m                                 Traceback (most recent call last)",
      "\u001b[1;32m<ipython-input-15-9ba126b17b03>\u001b[0m in \u001b[0;36m<module>\u001b[1;34m\u001b[0m\n\u001b[1;32m----> 1\u001b[1;33m \u001b[0mprint\u001b[0m\u001b[1;33m(\u001b[0m\u001b[0mname\u001b[0m\u001b[1;33m)\u001b[0m\u001b[1;33m\u001b[0m\u001b[1;33m\u001b[0m\u001b[0m\n\u001b[0m",
      "\u001b[1;31mNameError\u001b[0m: name 'name' is not defined"
     ]
    }
   ],
   "source": []
  },
  {
   "cell_type": "code",
   "execution_count": 6,
   "metadata": {},
   "outputs": [
    {
     "data": {
      "text/plain": [
       "'{\"message\":\"You are not subscribed to this API.\"}'"
      ]
     },
     "execution_count": 6,
     "metadata": {},
     "output_type": "execute_result"
    }
   ],
   "source": []
  },
  {
   "cell_type": "code",
   "execution_count": 4,
   "metadata": {},
   "outputs": [
    {
     "ename": "NameError",
     "evalue": "name 'ia' is not defined",
     "output_type": "error",
     "traceback": [
      "\u001b[1;31m---------------------------------------------------------------------------\u001b[0m",
      "\u001b[1;31mNameError\u001b[0m                                 Traceback (most recent call last)",
      "\u001b[1;32m<ipython-input-4-0f587d346d48>\u001b[0m in \u001b[0;36m<module>\u001b[1;34m()\u001b[0m\n\u001b[1;32m----> 1\u001b[1;33m \u001b[0mthe_matrix\u001b[0m \u001b[1;33m=\u001b[0m \u001b[0mia\u001b[0m\u001b[1;33m.\u001b[0m\u001b[0mget_movie\u001b[0m\u001b[1;33m(\u001b[0m\u001b[1;34m'0133093'\u001b[0m\u001b[1;33m)\u001b[0m\u001b[1;33m\u001b[0m\u001b[0m\n\u001b[0m\u001b[0;32m      2\u001b[0m \u001b[0mprint\u001b[0m\u001b[1;33m(\u001b[0m\u001b[0mthe_matrix\u001b[0m\u001b[1;33m[\u001b[0m\u001b[1;34m'director'\u001b[0m\u001b[1;33m]\u001b[0m\u001b[1;33m)\u001b[0m\u001b[1;33m\u001b[0m\u001b[0m\n",
      "\u001b[1;31mNameError\u001b[0m: name 'ia' is not defined"
     ]
    }
   ],
   "source": []
  },
  {
   "cell_type": "code",
   "execution_count": 5,
   "metadata": {},
   "outputs": [
    {
     "ename": "NameError",
     "evalue": "name 'ia' is not defined",
     "output_type": "error",
     "traceback": [
      "\u001b[1;31m---------------------------------------------------------------------------\u001b[0m",
      "\u001b[1;31mNameError\u001b[0m                                 Traceback (most recent call last)",
      "\u001b[1;32m<ipython-input-5-b2ddc0f36ed2>\u001b[0m in \u001b[0;36m<module>\u001b[1;34m()\u001b[0m\n\u001b[1;32m----> 1\u001b[1;33m \u001b[0mprint\u001b[0m\u001b[1;33m(\u001b[0m\u001b[0mia\u001b[0m\u001b[1;33m.\u001b[0m\u001b[0mget_movie_infoset\u001b[0m\u001b[1;33m(\u001b[0m\u001b[1;33m)\u001b[0m\u001b[1;33m)\u001b[0m\u001b[1;33m\u001b[0m\u001b[0m\n\u001b[0m",
      "\u001b[1;31mNameError\u001b[0m: name 'ia' is not defined"
     ]
    }
   ],
   "source": []
  },
  {
   "cell_type": "code",
   "execution_count": 6,
   "metadata": {},
   "outputs": [],
   "source": []
  },
  {
   "cell_type": "code",
   "execution_count": 7,
   "metadata": {},
   "outputs": [
    {
     "name": "stdout",
     "output_type": "stream",
     "text": [
      "['tech']\n"
     ]
    }
   ],
   "source": []
  },
  {
   "cell_type": "code",
   "execution_count": 8,
   "metadata": {},
   "outputs": [
    {
     "name": "stdout",
     "output_type": "stream",
     "text": [
      "None\n"
     ]
    }
   ],
   "source": []
  },
  {
   "cell_type": "code",
   "execution_count": 9,
   "metadata": {},
   "outputs": [
    {
     "name": "stdout",
     "output_type": "stream",
     "text": [
      "0000154 Mel Gibson\n",
      "2153167 Mel Gibson\n",
      "3323885 Adam Taylor\n",
      "0317112 Mel Gibson\n",
      "2800055 Mel Gibson\n",
      "3742421 Melina Mari Bryant   nickname\n",
      "6709224 Mel Gibson\n",
      "0316945 Donal Gibson\n",
      "0317195 Terel Gibson\n",
      "4047961 Noel Gibson\n",
      "2606006 Anne L. Gibson\n",
      "2106809 Raquel Gibson\n",
      "0316878 Cal Gibson\n",
      "2798174 Daniel Gibson\n",
      "0316915 Daniel Gibson\n",
      "7133936 Jamel Gibson\n",
      "7699405 Jamel Gibson\n",
      "3912400 Jamel Gibson\n",
      "0316950 E.L. Gibson\n",
      "2988370 Mal Gibson\n"
     ]
    }
   ],
   "source": []
  },
  {
   "cell_type": "code",
   "execution_count": 10,
   "metadata": {},
   "outputs": [],
   "source": []
  },
  {
   "cell_type": "code",
   "execution_count": 11,
   "metadata": {},
   "outputs": [
    {
     "name": "stdout",
     "output_type": "stream",
     "text": [
      "['name', 'country', 'long imdb name']\n",
      "None\n"
     ]
    }
   ],
   "source": []
  },
  {
   "cell_type": "code",
   "execution_count": 12,
   "metadata": {},
   "outputs": [],
   "source": []
  },
  {
   "cell_type": "code",
   "execution_count": 14,
   "metadata": {},
   "outputs": [],
   "source": []
  },
  {
   "cell_type": "code",
   "execution_count": 15,
   "metadata": {},
   "outputs": [
    {
     "data": {
      "text/plain": [
       "['__class__',\n",
       " '__delattr__',\n",
       " '__dict__',\n",
       " '__dir__',\n",
       " '__doc__',\n",
       " '__eq__',\n",
       " '__format__',\n",
       " '__ge__',\n",
       " '__getattribute__',\n",
       " '__gt__',\n",
       " '__hash__',\n",
       " '__init__',\n",
       " '__init_subclass__',\n",
       " '__le__',\n",
       " '__lt__',\n",
       " '__module__',\n",
       " '__ne__',\n",
       " '__new__',\n",
       " '__reduce__',\n",
       " '__reduce_ex__',\n",
       " '__repr__',\n",
       " '__setattr__',\n",
       " '__sizeof__',\n",
       " '__str__',\n",
       " '__subclasshook__',\n",
       " '__weakref__',\n",
       " '_defModFunct',\n",
       " '_getRefs',\n",
       " '_get_infoset',\n",
       " '_get_keyword',\n",
       " '_get_real_characterID',\n",
       " '_get_real_companyID',\n",
       " '_get_real_movieID',\n",
       " '_get_real_personID',\n",
       " '_get_search_content',\n",
       " '_get_top_bottom_movies',\n",
       " '_http_logger',\n",
       " '_keywordsResults',\n",
       " '_mdparse',\n",
       " '_normalize_characterID',\n",
       " '_normalize_companyID',\n",
       " '_normalize_movieID',\n",
       " '_normalize_personID',\n",
       " '_purge_seasons_data',\n",
       " '_reraise_exceptions',\n",
       " '_results',\n",
       " '_retrieve',\n",
       " '_searchIMDb',\n",
       " '_search_character',\n",
       " '_search_company',\n",
       " '_search_episode',\n",
       " '_search_keyword',\n",
       " '_search_movie',\n",
       " '_search_person',\n",
       " 'accessSystem',\n",
       " 'character2imdbID',\n",
       " 'compProxy',\n",
       " 'company2imdbID',\n",
       " 'del_cookies',\n",
       " 'do_adult_search',\n",
       " 'get_bottom100_movies',\n",
       " 'get_character',\n",
       " 'get_character_infoset',\n",
       " 'get_company',\n",
       " 'get_company_infoset',\n",
       " 'get_company_main',\n",
       " 'get_episode',\n",
       " 'get_imdbCharacterID',\n",
       " 'get_imdbCompanyID',\n",
       " 'get_imdbID',\n",
       " 'get_imdbMovieID',\n",
       " 'get_imdbPersonID',\n",
       " 'get_imdbURL',\n",
       " 'get_keyword',\n",
       " 'get_movie',\n",
       " 'get_movie_airing',\n",
       " 'get_movie_akas',\n",
       " 'get_movie_alternate_versions',\n",
       " 'get_movie_awards',\n",
       " 'get_movie_connections',\n",
       " 'get_movie_crazy_credits',\n",
       " 'get_movie_critic_reviews',\n",
       " 'get_movie_episodes',\n",
       " 'get_movie_external_reviews',\n",
       " 'get_movie_external_sites',\n",
       " 'get_movie_faqs',\n",
       " 'get_movie_full_credits',\n",
       " 'get_movie_goofs',\n",
       " 'get_movie_infoset',\n",
       " 'get_movie_keywords',\n",
       " 'get_movie_locations',\n",
       " 'get_movie_main',\n",
       " 'get_movie_misc_sites',\n",
       " 'get_movie_news',\n",
       " 'get_movie_official_sites',\n",
       " 'get_movie_parents_guide',\n",
       " 'get_movie_photo_sites',\n",
       " 'get_movie_plot',\n",
       " 'get_movie_quotes',\n",
       " 'get_movie_release_dates',\n",
       " 'get_movie_release_info',\n",
       " 'get_movie_reviews',\n",
       " 'get_movie_sound_clips',\n",
       " 'get_movie_soundtrack',\n",
       " 'get_movie_synopsis',\n",
       " 'get_movie_taglines',\n",
       " 'get_movie_technical',\n",
       " 'get_movie_trivia',\n",
       " 'get_movie_tv_schedule',\n",
       " 'get_movie_video_clips',\n",
       " 'get_movie_vote_details',\n",
       " 'get_person',\n",
       " 'get_person_awards',\n",
       " 'get_person_biography',\n",
       " 'get_person_filmography',\n",
       " 'get_person_genres_links',\n",
       " 'get_person_infoset',\n",
       " 'get_person_keywords_links',\n",
       " 'get_person_main',\n",
       " 'get_person_news',\n",
       " 'get_person_official_sites',\n",
       " 'get_person_other_works',\n",
       " 'get_person_publicity',\n",
       " 'get_proxy',\n",
       " 'get_special_methods',\n",
       " 'get_top250_movies',\n",
       " 'mProxy',\n",
       " 'name2imdbID',\n",
       " 'new_character',\n",
       " 'new_company',\n",
       " 'new_movie',\n",
       " 'new_person',\n",
       " 'pProxy',\n",
       " 'scompProxy',\n",
       " 'search_character',\n",
       " 'search_company',\n",
       " 'search_episode',\n",
       " 'search_keyword',\n",
       " 'search_movie',\n",
       " 'search_person',\n",
       " 'set_cookies',\n",
       " 'set_imdb_urls',\n",
       " 'set_proxy',\n",
       " 'set_timeout',\n",
       " 'skProxy',\n",
       " 'smProxy',\n",
       " 'spProxy',\n",
       " 'title2imdbID',\n",
       " 'topBottomProxy',\n",
       " 'update',\n",
       " 'urlOpener',\n",
       " 'urls']"
      ]
     },
     "execution_count": 15,
     "metadata": {},
     "output_type": "execute_result"
    }
   ],
   "source": []
  },
  {
   "cell_type": "code",
   "execution_count": 21,
   "metadata": {},
   "outputs": [
    {
     "name": "stdout",
     "output_type": "stream",
     "text": [
      "Help on method search_movie in module imdb:\n",
      "\n",
      "search_movie(title, results=None, _episodes=False) method of imdb.parser.http.IMDbHTTPAccessSystem instance\n",
      "    Return a list of Movie objects for a query for the given title.\n",
      "    The results argument is the maximum number of results to return.\n",
      "\n"
     ]
    }
   ],
   "source": []
  },
  {
   "cell_type": "code",
   "execution_count": 1,
   "metadata": {},
   "outputs": [
    {
     "ename": "NameError",
     "evalue": "name 'ia' is not defined",
     "output_type": "error",
     "traceback": [
      "\u001b[1;31m---------------------------------------------------------------------------\u001b[0m",
      "\u001b[1;31mNameError\u001b[0m                                 Traceback (most recent call last)",
      "\u001b[1;32m<ipython-input-1-47cfb0210cb4>\u001b[0m in \u001b[0;36m<module>\u001b[1;34m()\u001b[0m\n\u001b[1;32m----> 1\u001b[1;33m \u001b[0mia\u001b[0m\u001b[1;33m.\u001b[0m\u001b[0msearch_movie\u001b[0m\u001b[1;33m(\u001b[0m\u001b[0mholes\u001b[0m\u001b[1;33m)\u001b[0m\u001b[1;33m\u001b[0m\u001b[0m\n\u001b[0m",
      "\u001b[1;31mNameError\u001b[0m: name 'ia' is not defined"
     ]
    }
   ],
   "source": []
  },
  {
   "cell_type": "code",
   "execution_count": null,
   "metadata": {},
   "outputs": [],
   "source": []
  }
 ],
 "metadata": {
  "kernelspec": {
   "display_name": "Python 3",
   "language": "python",
   "name": "python3"
  },
  "language_info": {
   "codemirror_mode": {
    "name": "ipython",
    "version": 3
   },
   "file_extension": ".py",
   "mimetype": "text/x-python",
   "name": "python",
   "nbconvert_exporter": "python",
   "pygments_lexer": "ipython3",
   "version": "3.6.7"
  }
 },
 "nbformat": 4,
 "nbformat_minor": 2
}
